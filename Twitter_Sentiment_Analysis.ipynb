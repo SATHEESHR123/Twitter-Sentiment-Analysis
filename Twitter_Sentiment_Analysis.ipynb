{
  "metadata": {
    "kernelspec": {
      "language": "python",
      "display_name": "Python 3",
      "name": "python3"
    },
    "language_info": {
      "name": "python",
      "version": "3.10.13",
      "mimetype": "text/x-python",
      "codemirror_mode": {
        "name": "ipython",
        "version": 3
      },
      "pygments_lexer": "ipython3",
      "nbconvert_exporter": "python",
      "file_extension": ".py"
    },
    "kaggle": {
      "accelerator": "none",
      "dataSources": [
        {
          "sourceId": 2510329,
          "sourceType": "datasetVersion",
          "datasetId": 1520310
        }
      ],
      "dockerImageVersionId": 30732,
      "isInternetEnabled": true,
      "language": "python",
      "sourceType": "notebook",
      "isGpuEnabled": false
    },
    "colab": {
      "name": "Twitter_Sentiment_Analysis",
      "provenance": []
    }
  },
  "nbformat_minor": 0,
  "nbformat": 4,
  "cells": [
    {
      "source": [
        "\n",
        "# IMPORTANT: RUN THIS CELL IN ORDER TO IMPORT YOUR KAGGLE DATA SOURCES\n",
        "# TO THE CORRECT LOCATION (/kaggle/input) IN YOUR NOTEBOOK,\n",
        "# THEN FEEL FREE TO DELETE THIS CELL.\n",
        "# NOTE: THIS NOTEBOOK ENVIRONMENT DIFFERS FROM KAGGLE'S PYTHON\n",
        "# ENVIRONMENT SO THERE MAY BE MISSING LIBRARIES USED BY YOUR\n",
        "# NOTEBOOK.\n",
        "\n",
        "import os\n",
        "import sys\n",
        "from tempfile import NamedTemporaryFile\n",
        "from urllib.request import urlopen\n",
        "from urllib.parse import unquote, urlparse\n",
        "from urllib.error import HTTPError\n",
        "from zipfile import ZipFile\n",
        "import tarfile\n",
        "import shutil\n",
        "\n",
        "CHUNK_SIZE = 40960\n",
        "DATA_SOURCE_MAPPING = 'twitter-entity-sentiment-analysis:https%3A%2F%2Fstorage.googleapis.com%2Fkaggle-data-sets%2F1520310%2F2510329%2Fbundle%2Farchive.zip%3FX-Goog-Algorithm%3DGOOG4-RSA-SHA256%26X-Goog-Credential%3Dgcp-kaggle-com%2540kaggle-161607.iam.gserviceaccount.com%252F20240704%252Fauto%252Fstorage%252Fgoog4_request%26X-Goog-Date%3D20240704T121243Z%26X-Goog-Expires%3D259200%26X-Goog-SignedHeaders%3Dhost%26X-Goog-Signature%3D8c2f0b58a67bb154ee4c9f95bafdde5f4da47017feb33f7592a5c472e2d6a76eb7dbe03edc02f385e1540dbdc079bfb74ad79aa674725cc7577e5d90c8788e13fd4eade95726be5ac7548540a14c5c020b42986b382de728844bf1d1f1cadc8770f4ae54c451f60a48f8632cd8530cc724abd1f827407ad0a21df17baf78be81ab200441ec7e911c680e8115532a4f13eb05d5b27343bc99c51b413c236ffa86410cf3e5b2685fb08f7213c714a48c6ffa0bb68fced0e5ababb75a9d426f9adf44c23b10b00ab44a7e826853dfd31aa3a7242012f034f400f3f7a2018b5d06296716782e7dc4f07f4e8bab6d7a9664284caa7862be24313a3fc9e7bc4a0a4b62'\n",
        "\n",
        "KAGGLE_INPUT_PATH='/kaggle/input'\n",
        "KAGGLE_WORKING_PATH='/kaggle/working'\n",
        "KAGGLE_SYMLINK='kaggle'\n",
        "\n",
        "!umount /kaggle/input/ 2> /dev/null\n",
        "shutil.rmtree('/kaggle/input', ignore_errors=True)\n",
        "os.makedirs(KAGGLE_INPUT_PATH, 0o777, exist_ok=True)\n",
        "os.makedirs(KAGGLE_WORKING_PATH, 0o777, exist_ok=True)\n",
        "\n",
        "try:\n",
        "  os.symlink(KAGGLE_INPUT_PATH, os.path.join(\"..\", 'input'), target_is_directory=True)\n",
        "except FileExistsError:\n",
        "  pass\n",
        "try:\n",
        "  os.symlink(KAGGLE_WORKING_PATH, os.path.join(\"..\", 'working'), target_is_directory=True)\n",
        "except FileExistsError:\n",
        "  pass\n",
        "\n",
        "for data_source_mapping in DATA_SOURCE_MAPPING.split(','):\n",
        "    directory, download_url_encoded = data_source_mapping.split(':')\n",
        "    download_url = unquote(download_url_encoded)\n",
        "    filename = urlparse(download_url).path\n",
        "    destination_path = os.path.join(KAGGLE_INPUT_PATH, directory)\n",
        "    try:\n",
        "        with urlopen(download_url) as fileres, NamedTemporaryFile() as tfile:\n",
        "            total_length = fileres.headers['content-length']\n",
        "            print(f'Downloading {directory}, {total_length} bytes compressed')\n",
        "            dl = 0\n",
        "            data = fileres.read(CHUNK_SIZE)\n",
        "            while len(data) > 0:\n",
        "                dl += len(data)\n",
        "                tfile.write(data)\n",
        "                done = int(50 * dl / int(total_length))\n",
        "                sys.stdout.write(f\"\\r[{'=' * done}{' ' * (50-done)}] {dl} bytes downloaded\")\n",
        "                sys.stdout.flush()\n",
        "                data = fileres.read(CHUNK_SIZE)\n",
        "            if filename.endswith('.zip'):\n",
        "              with ZipFile(tfile) as zfile:\n",
        "                zfile.extractall(destination_path)\n",
        "            else:\n",
        "              with tarfile.open(tfile.name) as tarfile:\n",
        "                tarfile.extractall(destination_path)\n",
        "            print(f'\\nDownloaded and uncompressed: {directory}')\n",
        "    except HTTPError as e:\n",
        "        print(f'Failed to load (likely expired) {download_url} to path {destination_path}')\n",
        "        continue\n",
        "    except OSError as e:\n",
        "        print(f'Failed to load {download_url} to path {destination_path}')\n",
        "        continue\n",
        "\n",
        "print('Data source import complete.')\n"
      ],
      "metadata": {
        "id": "7eRiJrf1qVK1",
        "outputId": "ffedcf23-e3ec-476b-dcd9-73ce4dde523c",
        "colab": {
          "base_uri": "https://localhost:8080/"
        }
      },
      "cell_type": "code",
      "outputs": [
        {
          "output_type": "stream",
          "name": "stdout",
          "text": [
            "Downloading twitter-entity-sentiment-analysis, 2090169 bytes compressed\n",
            "[==================================================] 2090169 bytes downloaded\n",
            "Downloaded and uncompressed: twitter-entity-sentiment-analysis\n",
            "Data source import complete.\n"
          ]
        }
      ],
      "execution_count": 1
    },
    {
      "cell_type": "code",
      "source": [
        "# This Python 3 environment comes with many helpful analytics libraries installed\n",
        "# It is defined by the kaggle/python Docker image: https://github.com/kaggle/docker-python\n",
        "# For example, here's several helpful packages to load\n",
        "\n",
        "import numpy as np # linear algebra\n",
        "import pandas as pd # data processing, CSV file I/O (e.g. pd.read_csv)\n",
        "\n",
        "# Input data files are available in the read-only \"../input/\" directory\n",
        "# For example, running this (by clicking run or pressing Shift+Enter) will list all files under the input directory\n",
        "\n",
        "import os\n",
        "for dirname, _, filenames in os.walk('/kaggle/input'):\n",
        "    for filename in filenames:\n",
        "        print(os.path.join(dirname, filename))\n",
        "\n",
        "# You can write up to 20GB to the current directory (/kaggle/working/) that gets preserved as output when you create a version using \"Save & Run All\"\n",
        "# You can also write temporary files to /kaggle/temp/, but they won't be saved outside of the current session"
      ],
      "metadata": {
        "_uuid": "8f2839f25d086af736a60e9eeb907d3b93b6e0e5",
        "_cell_guid": "b1076dfc-b9ad-4769-8c92-a6c4dae69d19",
        "execution": {
          "iopub.status.busy": "2024-06-27T07:55:40.295686Z",
          "iopub.execute_input": "2024-06-27T07:55:40.296124Z",
          "iopub.status.idle": "2024-06-27T07:55:41.619645Z",
          "shell.execute_reply.started": "2024-06-27T07:55:40.296089Z",
          "shell.execute_reply": "2024-06-27T07:55:41.61824Z"
        },
        "trusted": true,
        "id": "KQlxKOL7qVK-",
        "outputId": "fabad0aa-a37c-41f0-c647-860823072f66",
        "colab": {
          "base_uri": "https://localhost:8080/"
        }
      },
      "execution_count": 2,
      "outputs": [
        {
          "output_type": "stream",
          "name": "stdout",
          "text": [
            "/kaggle/input/twitter-entity-sentiment-analysis/twitter_validation.csv\n",
            "/kaggle/input/twitter-entity-sentiment-analysis/twitter_training.csv\n"
          ]
        }
      ]
    },
    {
      "cell_type": "code",
      "source": [
        "column_names = [ 'id', 'topic', 'sentiment', 'text']\n",
        "data = pd.read_csv('/kaggle/input/twitter-entity-sentiment-analysis/twitter_training.csv',names = column_names)\n",
        "data.drop('id',axis = 1,inplace=True)"
      ],
      "metadata": {
        "execution": {
          "iopub.status.busy": "2024-06-27T07:55:41.622364Z",
          "iopub.execute_input": "2024-06-27T07:55:41.623629Z",
          "iopub.status.idle": "2024-06-27T07:55:42.116727Z",
          "shell.execute_reply.started": "2024-06-27T07:55:41.623581Z",
          "shell.execute_reply": "2024-06-27T07:55:42.115361Z"
        },
        "trusted": true,
        "id": "sZZDluIeqVLA"
      },
      "execution_count": 3,
      "outputs": []
    },
    {
      "cell_type": "code",
      "source": [
        "data.sentiment.value_counts()"
      ],
      "metadata": {
        "execution": {
          "iopub.status.busy": "2024-06-27T07:55:42.118186Z",
          "iopub.execute_input": "2024-06-27T07:55:42.119307Z",
          "iopub.status.idle": "2024-06-27T07:55:42.139839Z",
          "shell.execute_reply.started": "2024-06-27T07:55:42.11927Z",
          "shell.execute_reply": "2024-06-27T07:55:42.138651Z"
        },
        "trusted": true,
        "id": "l3KbguuVqVLB",
        "outputId": "678d2364-d6a5-41dd-896e-c31d382e357a",
        "colab": {
          "base_uri": "https://localhost:8080/"
        }
      },
      "execution_count": 4,
      "outputs": [
        {
          "output_type": "execute_result",
          "data": {
            "text/plain": [
              "sentiment\n",
              "Negative      22542\n",
              "Positive      20832\n",
              "Neutral       18318\n",
              "Irrelevant    12990\n",
              "Name: count, dtype: int64"
            ]
          },
          "metadata": {},
          "execution_count": 4
        }
      ]
    },
    {
      "cell_type": "code",
      "source": [
        "#remove the null values\n",
        "data.dropna(inplace=True)"
      ],
      "metadata": {
        "execution": {
          "iopub.status.busy": "2024-06-27T07:55:42.143042Z",
          "iopub.execute_input": "2024-06-27T07:55:42.143421Z",
          "iopub.status.idle": "2024-06-27T07:55:42.177607Z",
          "shell.execute_reply.started": "2024-06-27T07:55:42.143389Z",
          "shell.execute_reply": "2024-06-27T07:55:42.176418Z"
        },
        "trusted": true,
        "id": "eWS6T-qiqVLC"
      },
      "execution_count": 5,
      "outputs": []
    },
    {
      "cell_type": "code",
      "source": [
        "#Data Preprocessing\n",
        "import re\n",
        "from nltk.corpus import stopwords\n",
        "from nltk.stem import PorterStemmer\n",
        "\n",
        "!pip install nltk\n",
        "import nltk\n",
        "nltk.download('stopwords') # Download the stopwords corpus\n",
        "\n",
        "stemmer = PorterStemmer()\n",
        "stop_words = set(stopwords.words('english'))\n",
        "\n",
        "#Function to preprocess text\n",
        "def preprocess_text(text):\n",
        "    #removing the punctuation, numbers and special characters\n",
        "    text = re.sub(r'[^a-zA-Z\\s]', '',text,re.I|re.A)\n",
        "\n",
        "    #Convert to lowercase\n",
        "    text = text.lower()\n",
        "    #Tokenize the text\n",
        "    tokens = text.split()\n",
        "\n",
        "    #Remove the stop words do stemming\n",
        "    tokens =  [stemmer.stem(word) for word in tokens if word not in stop_words]\n",
        "    return  ' '.join(tokens)"
      ],
      "metadata": {
        "execution": {
          "iopub.status.busy": "2024-06-27T07:55:44.522564Z",
          "iopub.execute_input": "2024-06-27T07:55:44.523075Z",
          "iopub.status.idle": "2024-06-27T07:55:44.538108Z",
          "shell.execute_reply.started": "2024-06-27T07:55:44.523037Z",
          "shell.execute_reply": "2024-06-27T07:55:44.536828Z"
        },
        "trusted": true,
        "id": "uTL22t48qVLE",
        "outputId": "edfde143-658e-40b7-e11b-11e3f8fe16ff",
        "colab": {
          "base_uri": "https://localhost:8080/"
        }
      },
      "execution_count": 13,
      "outputs": [
        {
          "output_type": "stream",
          "name": "stdout",
          "text": [
            "Requirement already satisfied: nltk in /usr/local/lib/python3.10/dist-packages (3.8.1)\n",
            "Requirement already satisfied: click in /usr/local/lib/python3.10/dist-packages (from nltk) (8.1.7)\n",
            "Requirement already satisfied: joblib in /usr/local/lib/python3.10/dist-packages (from nltk) (1.4.2)\n",
            "Requirement already satisfied: regex>=2021.8.3 in /usr/local/lib/python3.10/dist-packages (from nltk) (2024.5.15)\n",
            "Requirement already satisfied: tqdm in /usr/local/lib/python3.10/dist-packages (from nltk) (4.66.4)\n"
          ]
        },
        {
          "output_type": "stream",
          "name": "stderr",
          "text": [
            "[nltk_data] Downloading package stopwords to /root/nltk_data...\n",
            "[nltk_data]   Package stopwords is already up-to-date!\n"
          ]
        }
      ]
    },
    {
      "cell_type": "code",
      "source": [
        "data['preprocessed_text']=data['text'].apply(preprocess_text)\n",
        "print(data[['text','preprocessed_text']].head())"
      ],
      "metadata": {
        "execution": {
          "iopub.status.busy": "2024-06-27T07:55:44.539736Z",
          "iopub.execute_input": "2024-06-27T07:55:44.540608Z",
          "iopub.status.idle": "2024-06-27T07:56:06.764818Z",
          "shell.execute_reply.started": "2024-06-27T07:55:44.540559Z",
          "shell.execute_reply": "2024-06-27T07:56:06.763588Z"
        },
        "trusted": true,
        "id": "dD5L2UTMqVLF",
        "outputId": "b3a23b4d-45dc-445d-9fea-4c3cf7ac9482",
        "colab": {
          "base_uri": "https://localhost:8080/"
        }
      },
      "execution_count": 14,
      "outputs": [
        {
          "output_type": "stream",
          "name": "stdout",
          "text": [
            "                                                text  \\\n",
            "0  im getting on borderlands and i will murder yo...   \n",
            "1  I am coming to the borders and I will kill you...   \n",
            "2  im getting on borderlands and i will kill you ...   \n",
            "3  im coming on borderlands and i will murder you...   \n",
            "4  im getting on borderlands 2 and i will murder ...   \n",
            "\n",
            "           preprocessed_text  \n",
            "0   im get borderland murder  \n",
            "1           come border kill  \n",
            "2     im get borderland kill  \n",
            "3  im come borderland murder  \n",
            "4   im get borderland murder  \n"
          ]
        }
      ]
    },
    {
      "cell_type": "code",
      "source": [
        "#feature extraction\n",
        "from sklearn.feature_extraction.text import TfidfVectorizer\n",
        "\n",
        "#Initialize the TF-IDF vectorizer\n",
        "vectorizer = TfidfVectorizer(max_features = 5000)\n",
        "X = vectorizer.fit_transform(data['preprocessed_text'])\n",
        "y = data['sentiment']\n",
        "print(X.shape,y.shape)"
      ],
      "metadata": {
        "execution": {
          "iopub.status.busy": "2024-06-27T07:56:14.010859Z",
          "iopub.execute_input": "2024-06-27T07:56:14.011259Z",
          "iopub.status.idle": "2024-06-27T07:56:15.031094Z",
          "shell.execute_reply.started": "2024-06-27T07:56:14.011226Z",
          "shell.execute_reply": "2024-06-27T07:56:15.029956Z"
        },
        "trusted": true,
        "id": "ts_g2BFXqVLG",
        "outputId": "fa098a11-bd3a-4d06-cd5c-77b609a387d8",
        "colab": {
          "base_uri": "https://localhost:8080/"
        }
      },
      "execution_count": 15,
      "outputs": [
        {
          "output_type": "stream",
          "name": "stdout",
          "text": [
            "(73996, 5000) (73996,)\n"
          ]
        }
      ]
    },
    {
      "cell_type": "markdown",
      "source": [
        "Data Validation Decision Tree Model"
      ],
      "metadata": {
        "id": "F7uyaOwuqVLH"
      }
    },
    {
      "cell_type": "code",
      "source": [
        "from sklearn.model_selection import train_test_split\n",
        "\n",
        "X_train,X_test,y_train,y_test = train_test_split(X,y,test_size = 0.3)"
      ],
      "metadata": {
        "execution": {
          "iopub.status.busy": "2024-06-27T08:04:48.334457Z",
          "iopub.execute_input": "2024-06-27T08:04:48.334869Z",
          "iopub.status.idle": "2024-06-27T08:04:48.357548Z",
          "shell.execute_reply.started": "2024-06-27T08:04:48.33483Z",
          "shell.execute_reply": "2024-06-27T08:04:48.356317Z"
        },
        "trusted": true,
        "id": "VHnxpDrHqVLK"
      },
      "execution_count": 16,
      "outputs": []
    },
    {
      "cell_type": "code",
      "source": [
        "from sklearn.tree import DecisionTreeClassifier\n",
        "\n",
        "clf = DecisionTreeClassifier(criterion='gini',splitter = \"random\")\n",
        "clf.fit(X_train,y_train)"
      ],
      "metadata": {
        "execution": {
          "iopub.status.busy": "2024-06-27T08:09:17.521246Z",
          "iopub.execute_input": "2024-06-27T08:09:17.521717Z",
          "iopub.status.idle": "2024-06-27T08:09:30.192539Z",
          "shell.execute_reply.started": "2024-06-27T08:09:17.521685Z",
          "shell.execute_reply": "2024-06-27T08:09:30.191409Z"
        },
        "trusted": true,
        "id": "qHyhn5aAqVLL",
        "outputId": "35c95afb-08dc-43e8-b158-61203b3ab508",
        "colab": {
          "base_uri": "https://localhost:8080/",
          "height": 74
        }
      },
      "execution_count": 17,
      "outputs": [
        {
          "output_type": "execute_result",
          "data": {
            "text/plain": [
              "DecisionTreeClassifier(splitter='random')"
            ],
            "text/html": [
              "<style>#sk-container-id-1 {color: black;background-color: white;}#sk-container-id-1 pre{padding: 0;}#sk-container-id-1 div.sk-toggleable {background-color: white;}#sk-container-id-1 label.sk-toggleable__label {cursor: pointer;display: block;width: 100%;margin-bottom: 0;padding: 0.3em;box-sizing: border-box;text-align: center;}#sk-container-id-1 label.sk-toggleable__label-arrow:before {content: \"▸\";float: left;margin-right: 0.25em;color: #696969;}#sk-container-id-1 label.sk-toggleable__label-arrow:hover:before {color: black;}#sk-container-id-1 div.sk-estimator:hover label.sk-toggleable__label-arrow:before {color: black;}#sk-container-id-1 div.sk-toggleable__content {max-height: 0;max-width: 0;overflow: hidden;text-align: left;background-color: #f0f8ff;}#sk-container-id-1 div.sk-toggleable__content pre {margin: 0.2em;color: black;border-radius: 0.25em;background-color: #f0f8ff;}#sk-container-id-1 input.sk-toggleable__control:checked~div.sk-toggleable__content {max-height: 200px;max-width: 100%;overflow: auto;}#sk-container-id-1 input.sk-toggleable__control:checked~label.sk-toggleable__label-arrow:before {content: \"▾\";}#sk-container-id-1 div.sk-estimator input.sk-toggleable__control:checked~label.sk-toggleable__label {background-color: #d4ebff;}#sk-container-id-1 div.sk-label input.sk-toggleable__control:checked~label.sk-toggleable__label {background-color: #d4ebff;}#sk-container-id-1 input.sk-hidden--visually {border: 0;clip: rect(1px 1px 1px 1px);clip: rect(1px, 1px, 1px, 1px);height: 1px;margin: -1px;overflow: hidden;padding: 0;position: absolute;width: 1px;}#sk-container-id-1 div.sk-estimator {font-family: monospace;background-color: #f0f8ff;border: 1px dotted black;border-radius: 0.25em;box-sizing: border-box;margin-bottom: 0.5em;}#sk-container-id-1 div.sk-estimator:hover {background-color: #d4ebff;}#sk-container-id-1 div.sk-parallel-item::after {content: \"\";width: 100%;border-bottom: 1px solid gray;flex-grow: 1;}#sk-container-id-1 div.sk-label:hover label.sk-toggleable__label {background-color: #d4ebff;}#sk-container-id-1 div.sk-serial::before {content: \"\";position: absolute;border-left: 1px solid gray;box-sizing: border-box;top: 0;bottom: 0;left: 50%;z-index: 0;}#sk-container-id-1 div.sk-serial {display: flex;flex-direction: column;align-items: center;background-color: white;padding-right: 0.2em;padding-left: 0.2em;position: relative;}#sk-container-id-1 div.sk-item {position: relative;z-index: 1;}#sk-container-id-1 div.sk-parallel {display: flex;align-items: stretch;justify-content: center;background-color: white;position: relative;}#sk-container-id-1 div.sk-item::before, #sk-container-id-1 div.sk-parallel-item::before {content: \"\";position: absolute;border-left: 1px solid gray;box-sizing: border-box;top: 0;bottom: 0;left: 50%;z-index: -1;}#sk-container-id-1 div.sk-parallel-item {display: flex;flex-direction: column;z-index: 1;position: relative;background-color: white;}#sk-container-id-1 div.sk-parallel-item:first-child::after {align-self: flex-end;width: 50%;}#sk-container-id-1 div.sk-parallel-item:last-child::after {align-self: flex-start;width: 50%;}#sk-container-id-1 div.sk-parallel-item:only-child::after {width: 0;}#sk-container-id-1 div.sk-dashed-wrapped {border: 1px dashed gray;margin: 0 0.4em 0.5em 0.4em;box-sizing: border-box;padding-bottom: 0.4em;background-color: white;}#sk-container-id-1 div.sk-label label {font-family: monospace;font-weight: bold;display: inline-block;line-height: 1.2em;}#sk-container-id-1 div.sk-label-container {text-align: center;}#sk-container-id-1 div.sk-container {/* jupyter's `normalize.less` sets `[hidden] { display: none; }` but bootstrap.min.css set `[hidden] { display: none !important; }` so we also need the `!important` here to be able to override the default hidden behavior on the sphinx rendered scikit-learn.org. See: https://github.com/scikit-learn/scikit-learn/issues/21755 */display: inline-block !important;position: relative;}#sk-container-id-1 div.sk-text-repr-fallback {display: none;}</style><div id=\"sk-container-id-1\" class=\"sk-top-container\"><div class=\"sk-text-repr-fallback\"><pre>DecisionTreeClassifier(splitter=&#x27;random&#x27;)</pre><b>In a Jupyter environment, please rerun this cell to show the HTML representation or trust the notebook. <br />On GitHub, the HTML representation is unable to render, please try loading this page with nbviewer.org.</b></div><div class=\"sk-container\" hidden><div class=\"sk-item\"><div class=\"sk-estimator sk-toggleable\"><input class=\"sk-toggleable__control sk-hidden--visually\" id=\"sk-estimator-id-1\" type=\"checkbox\" checked><label for=\"sk-estimator-id-1\" class=\"sk-toggleable__label sk-toggleable__label-arrow\">DecisionTreeClassifier</label><div class=\"sk-toggleable__content\"><pre>DecisionTreeClassifier(splitter=&#x27;random&#x27;)</pre></div></div></div></div></div>"
            ]
          },
          "metadata": {},
          "execution_count": 17
        }
      ]
    },
    {
      "cell_type": "code",
      "source": [
        "from sklearn.metrics import accuracy_score,confusion_matrix,ConfusionMatrixDisplay\n",
        "y_pred = clf.predict(X_test)\n",
        "print(accuracy_score(y_test,y_pred))\n",
        "ConfusionMatrixDisplay.from_predictions(y_test,y_pred)"
      ],
      "metadata": {
        "execution": {
          "iopub.status.busy": "2024-06-27T08:09:30.194486Z",
          "iopub.execute_input": "2024-06-27T08:09:30.194962Z",
          "iopub.status.idle": "2024-06-27T08:09:30.669961Z",
          "shell.execute_reply.started": "2024-06-27T08:09:30.194923Z",
          "shell.execute_reply": "2024-06-27T08:09:30.66873Z"
        },
        "trusted": true,
        "id": "ScmjPSvxqVLL",
        "outputId": "e9c1bea6-5ca8-4d66-a89c-d38309843827",
        "colab": {
          "base_uri": "https://localhost:8080/",
          "height": 484
        }
      },
      "execution_count": 18,
      "outputs": [
        {
          "output_type": "stream",
          "name": "stdout",
          "text": [
            "0.7814766430920311\n"
          ]
        },
        {
          "output_type": "execute_result",
          "data": {
            "text/plain": [
              "<sklearn.metrics._plot.confusion_matrix.ConfusionMatrixDisplay at 0x7e86623ebcd0>"
            ]
          },
          "metadata": {},
          "execution_count": 18
        },
        {
          "output_type": "display_data",
          "data": {
            "text/plain": [
              "<Figure size 640x480 with 2 Axes>"
            ],
            "image/png": "[encoded data removed]"
          },
          "metadata": {}
        }
      ]
    },
    {
      "cell_type": "code",
      "source": [
        "def predict_sentiment(text):\n",
        "    preprocessed_text = preprocess_text(text)\n",
        "\n",
        "    # Transform the preprocessed text into TF-IDF vectors\n",
        "    X_new = vectorizer.transform([preprocessed_text])\n",
        "\n",
        "    # Make predictions\n",
        "    predicted_sentiment = clf.predict(X_new)\n",
        "\n",
        "    # Print the predicted sentiment\n",
        "    print(\"Predicted sentiment:\", predicted_sentiment)\n"
      ],
      "metadata": {
        "execution": {
          "iopub.status.busy": "2024-06-26T17:50:03.91871Z",
          "iopub.execute_input": "2024-06-26T17:50:03.919849Z",
          "iopub.status.idle": "2024-06-26T17:50:03.927356Z",
          "shell.execute_reply.started": "2024-06-26T17:50:03.919802Z",
          "shell.execute_reply": "2024-06-26T17:50:03.925903Z"
        },
        "trusted": true,
        "id": "W2JzXtGHqVLM"
      },
      "execution_count": 19,
      "outputs": []
    },
    {
      "cell_type": "code",
      "source": [
        "predict_sentiment(\"I am feeling very happy today\")"
      ],
      "metadata": {
        "execution": {
          "iopub.status.busy": "2024-06-26T17:51:26.980424Z",
          "iopub.execute_input": "2024-06-26T17:51:26.981472Z",
          "iopub.status.idle": "2024-06-26T17:51:26.989177Z",
          "shell.execute_reply.started": "2024-06-26T17:51:26.98138Z",
          "shell.execute_reply": "2024-06-26T17:51:26.988098Z"
        },
        "trusted": true,
        "id": "yFdQXQ8eqVLM",
        "outputId": "7932158f-cefe-450d-f8d8-3c78beeb4844",
        "colab": {
          "base_uri": "https://localhost:8080/"
        }
      },
      "execution_count": 20,
      "outputs": [
        {
          "output_type": "stream",
          "name": "stdout",
          "text": [
            "Predicted sentiment: ['Positive']\n"
          ]
        }
      ]
    },
    {
      "cell_type": "code",
      "source": [
        "predict_sentiment(\"Its beyond me\")"
      ],
      "metadata": {
        "execution": {
          "iopub.status.busy": "2024-06-26T17:52:26.059935Z",
          "iopub.execute_input": "2024-06-26T17:52:26.060457Z",
          "iopub.status.idle": "2024-06-26T17:52:26.067333Z",
          "shell.execute_reply.started": "2024-06-26T17:52:26.060423Z",
          "shell.execute_reply": "2024-06-26T17:52:26.06609Z"
        },
        "trusted": true,
        "id": "CzsslD7UqVLM",
        "outputId": "46f65f40-a816-499f-fb32-f509a57e6068",
        "colab": {
          "base_uri": "https://localhost:8080/"
        }
      },
      "execution_count": 21,
      "outputs": [
        {
          "output_type": "stream",
          "name": "stdout",
          "text": [
            "Predicted sentiment: ['Neutral']\n"
          ]
        }
      ]
    },
    {
      "cell_type": "code",
      "source": [
        "predict_sentiment(\"Die you son of something\")"
      ],
      "metadata": {
        "execution": {
          "iopub.status.busy": "2024-06-26T17:53:10.33956Z",
          "iopub.execute_input": "2024-06-26T17:53:10.339967Z",
          "iopub.status.idle": "2024-06-26T17:53:10.347671Z",
          "shell.execute_reply.started": "2024-06-26T17:53:10.339936Z",
          "shell.execute_reply": "2024-06-26T17:53:10.346573Z"
        },
        "trusted": true,
        "id": "Krqjc-yCqVLN",
        "outputId": "7a2e9a56-407c-4abe-94a6-b8a354497e1f",
        "colab": {
          "base_uri": "https://localhost:8080/"
        }
      },
      "execution_count": 22,
      "outputs": [
        {
          "output_type": "stream",
          "name": "stdout",
          "text": [
            "Predicted sentiment: ['Neutral']\n"
          ]
        }
      ]
    },
    {
      "cell_type": "code",
      "source": [
        "predict_sentiment(\"Nvdia is a Giant Company\")"
      ],
      "metadata": {
        "execution": {
          "iopub.status.busy": "2024-06-26T17:54:31.578788Z",
          "iopub.execute_input": "2024-06-26T17:54:31.579189Z",
          "iopub.status.idle": "2024-06-26T17:54:31.586533Z",
          "shell.execute_reply.started": "2024-06-26T17:54:31.579158Z",
          "shell.execute_reply": "2024-06-26T17:54:31.58552Z"
        },
        "trusted": true,
        "id": "p3Toc6LYqVLN",
        "outputId": "15ea4329-5ad8-45b8-dfd6-c7221c8824b8",
        "colab": {
          "base_uri": "https://localhost:8080/"
        }
      },
      "execution_count": 23,
      "outputs": [
        {
          "output_type": "stream",
          "name": "stdout",
          "text": [
            "Predicted sentiment: ['Negative']\n"
          ]
        }
      ]
    },
    {
      "cell_type": "code",
      "source": [],
      "metadata": {
        "id": "ePBZpcxiqVLN"
      },
      "execution_count": null,
      "outputs": []
    }
  ]
}